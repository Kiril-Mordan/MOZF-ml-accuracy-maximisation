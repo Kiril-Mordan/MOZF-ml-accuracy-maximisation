{
  "nbformat": 4,
  "nbformat_minor": 0,
  "metadata": {
    "colab": {
      "name": "Sentiment-analysis-SST.ipynb",
      "provenance": [],
      "authorship_tag": "ABX9TyNq9Ug9DCqG7bcsqpPqAdrf",
      "include_colab_link": true
    },
    "kernelspec": {
      "name": "python3",
      "display_name": "Python 3"
    },
    "language_info": {
      "name": "python"
    }
  },
  "cells": [
    {
      "cell_type": "markdown",
      "metadata": {
        "id": "view-in-github",
        "colab_type": "text"
      },
      "source": [
        "<a href=\"https://colab.research.google.com/github/Kiril-Mordan/MOZF-ml-accuracy-maximisation/blob/main/Sentiment_analysis_SST.ipynb\" target=\"_parent\"><img src=\"https://colab.research.google.com/assets/colab-badge.svg\" alt=\"Open In Colab\"/></a>"
      ]
    },
    {
      "cell_type": "markdown",
      "source": [
        "# Sentiment Analysis for Standford Sentiment Treebank data from rottentomatoes.com"
      ],
      "metadata": {
        "id": "QZaGE9_Fy61z"
      }
    },
    {
      "cell_type": "markdown",
      "source": [
        "Mounting G drive"
      ],
      "metadata": {
        "id": "wEiVGi15ymUu"
      }
    },
    {
      "cell_type": "code",
      "source": [
        "from google.colab import drive\n",
        "drive.mount(\"/content/drive/\")"
      ],
      "metadata": {
        "id": "ffYhxZfRzOAi"
      },
      "execution_count": 1,
      "outputs": []
    },
    {
      "cell_type": "markdown",
      "source": [
        "Coping data into working directory"
      ],
      "metadata": {
        "id": "LDThoRT6ypmE"
      }
    },
    {
      "cell_type": "code",
      "source": [
        "!mkdir data\n",
        "!cp -r /content/drive/MyDrive/V\\ rok/Uczenie\\ maszynowe/SST\\ project/* /content/data/"
      ],
      "metadata": {
        "id": "qW7ex_3lDy80"
      },
      "execution_count": 7,
      "outputs": []
    },
    {
      "cell_type": "code",
      "source": [
        ""
      ],
      "metadata": {
        "id": "GVmG_XbYFML2"
      },
      "execution_count": 8,
      "outputs": []
    },
    {
      "cell_type": "code",
      "source": [
        ""
      ],
      "metadata": {
        "id": "3nb6PneoyL70"
      },
      "execution_count": null,
      "outputs": []
    }
  ]
}